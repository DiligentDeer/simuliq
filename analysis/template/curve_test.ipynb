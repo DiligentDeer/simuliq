{
 "cells": [
  {
   "cell_type": "code",
   "execution_count": 1,
   "metadata": {},
   "outputs": [],
   "source": [
    "%load_ext autoreload\n",
    "%autoreload 2"
   ]
  },
  {
   "cell_type": "code",
   "execution_count": 1,
   "metadata": {},
   "outputs": [],
   "source": [
    "import sys\n",
    "import os\n",
    "import pandas as pd\n",
    "import logging\n",
    "from tqdm import tqdm\n",
    "import matplotlib.pyplot as plt\n",
    "import json\n",
    "\n",
    "# Add the project root to the system path using the current working directory\n",
    "project_root = os.path.abspath(os.path.join(os.getcwd(), '../..'))\n",
    "if project_root not in sys.path:\n",
    "    sys.path.append(project_root)\n",
    "\n",
    "# Import using absolute path from project root\n",
    "from src.instances.chain_instance import ARBITRUM_DTO, OPTIMISM_DTO, ETHEREUM_DTO, BASE_DTO\n",
    "from src.instances.curve_mint_market_instance import market_objects_dict\n",
    "from src.models.token import TokenDTO\n"
   ]
  },
  {
   "cell_type": "code",
   "execution_count": 2,
   "metadata": {},
   "outputs": [],
   "source": [
    "market = market_objects_dict['sfrxETH']\n"
   ]
  },
  {
   "cell_type": "code",
   "execution_count": 3,
   "metadata": {},
   "outputs": [],
   "source": [
    "df = market.get_user_position_data()"
   ]
  },
  {
   "cell_type": "code",
   "execution_count": 6,
   "metadata": {},
   "outputs": [
    {
     "name": "stdout",
     "output_type": "stream",
     "text": [
      "<class 'pandas.core.frame.DataFrame'>\n",
      "RangeIndex: 10 entries, 0 to 9\n",
      "Data columns (total 16 columns):\n",
      " #   Column            Non-Null Count  Dtype  \n",
      "---  ------            --------------  -----  \n",
      " 0   health            10 non-null     float64\n",
      " 1   health_full       10 non-null     float64\n",
      " 2   n1                10 non-null     int64  \n",
      " 3   n2                10 non-null     int64  \n",
      " 4   n                 10 non-null     int64  \n",
      " 5   debt              10 non-null     float64\n",
      " 6   collateral        10 non-null     float64\n",
      " 7   stablecoin        10 non-null     float64\n",
      " 8   soft_liquidation  10 non-null     bool   \n",
      " 9   total_deposited   10 non-null     float64\n",
      " 10  loss              10 non-null     float64\n",
      " 11  loss_pct          10 non-null     float64\n",
      " 12  collateral_up     10 non-null     float64\n",
      " 13  oracle_price      10 non-null     float64\n",
      " 14  block_number      10 non-null     int64  \n",
      " 15  timestamp         10 non-null     object \n",
      "dtypes: bool(1), float64(10), int64(4), object(1)\n",
      "memory usage: 1.3+ KB\n"
     ]
    }
   ],
   "source": [
    "df.info()"
   ]
  },
  {
   "cell_type": "code",
   "execution_count": 6,
   "metadata": {},
   "outputs": [],
   "source": [
    "output_liq_df = market.compute_price_for_max_hard_liq(df, 0.95)\n"
   ]
  },
  {
   "cell_type": "code",
   "execution_count": 7,
   "metadata": {},
   "outputs": [
    {
     "data": {
      "text/html": [
       "<div>\n",
       "<style scoped>\n",
       "    .dataframe tbody tr th:only-of-type {\n",
       "        vertical-align: middle;\n",
       "    }\n",
       "\n",
       "    .dataframe tbody tr th {\n",
       "        vertical-align: top;\n",
       "    }\n",
       "\n",
       "    .dataframe thead th {\n",
       "        text-align: right;\n",
       "    }\n",
       "</style>\n",
       "<table border=\"1\" class=\"dataframe\">\n",
       "  <thead>\n",
       "    <tr style=\"text-align: right;\">\n",
       "      <th></th>\n",
       "      <th>max_price</th>\n",
       "      <th>max_collateral_value</th>\n",
       "      <th>debt</th>\n",
       "    </tr>\n",
       "  </thead>\n",
       "  <tbody>\n",
       "    <tr>\n",
       "      <th>0</th>\n",
       "      <td>2467.318856</td>\n",
       "      <td>0.000118</td>\n",
       "      <td>0.962654</td>\n",
       "    </tr>\n",
       "  </tbody>\n",
       "</table>\n",
       "</div>"
      ],
      "text/plain": [
       "     max_price  max_collateral_value      debt\n",
       "0  2467.318856              0.000118  0.962654"
      ]
     },
     "execution_count": 7,
     "metadata": {},
     "output_type": "execute_result"
    }
   ],
   "source": [
    "output_liq_df"
   ]
  },
  {
   "cell_type": "code",
   "execution_count": 5,
   "metadata": {},
   "outputs": [
    {
     "data": {
      "text/html": [
       "<div>\n",
       "<style scoped>\n",
       "    .dataframe tbody tr th:only-of-type {\n",
       "        vertical-align: middle;\n",
       "    }\n",
       "\n",
       "    .dataframe tbody tr th {\n",
       "        vertical-align: top;\n",
       "    }\n",
       "\n",
       "    .dataframe thead th {\n",
       "        text-align: right;\n",
       "    }\n",
       "</style>\n",
       "<table border=\"1\" class=\"dataframe\">\n",
       "  <thead>\n",
       "    <tr style=\"text-align: right;\">\n",
       "      <th></th>\n",
       "      <th>max_price</th>\n",
       "      <th>max_collateral_value</th>\n",
       "      <th>debt</th>\n",
       "    </tr>\n",
       "  </thead>\n",
       "  <tbody>\n",
       "    <tr>\n",
       "      <th>0</th>\n",
       "      <td>451.412068</td>\n",
       "      <td>26.703226</td>\n",
       "      <td>18112.864736</td>\n",
       "    </tr>\n",
       "    <tr>\n",
       "      <th>1</th>\n",
       "      <td>940.164740</td>\n",
       "      <td>17.151219</td>\n",
       "      <td>24139.901153</td>\n",
       "    </tr>\n",
       "    <tr>\n",
       "      <th>2</th>\n",
       "      <td>1137.981657</td>\n",
       "      <td>11.390755</td>\n",
       "      <td>19274.089539</td>\n",
       "    </tr>\n",
       "    <tr>\n",
       "      <th>3</th>\n",
       "      <td>1463.037294</td>\n",
       "      <td>19.738406</td>\n",
       "      <td>39803.759558</td>\n",
       "    </tr>\n",
       "    <tr>\n",
       "      <th>4</th>\n",
       "      <td>1684.079823</td>\n",
       "      <td>0.470501</td>\n",
       "      <td>1193.464813</td>\n",
       "    </tr>\n",
       "    <tr>\n",
       "      <th>5</th>\n",
       "      <td>1735.629762</td>\n",
       "      <td>8.361573</td>\n",
       "      <td>21861.249335</td>\n",
       "    </tr>\n",
       "    <tr>\n",
       "      <th>6</th>\n",
       "      <td>2299.702408</td>\n",
       "      <td>12.164874</td>\n",
       "      <td>37067.877295</td>\n",
       "    </tr>\n",
       "    <tr>\n",
       "      <th>7</th>\n",
       "      <td>2370.096649</td>\n",
       "      <td>0.000011</td>\n",
       "      <td>0.040350</td>\n",
       "    </tr>\n",
       "    <tr>\n",
       "      <th>8</th>\n",
       "      <td>2594.473893</td>\n",
       "      <td>0.000315</td>\n",
       "      <td>0.962654</td>\n",
       "    </tr>\n",
       "  </tbody>\n",
       "</table>\n",
       "</div>"
      ],
      "text/plain": [
       "     max_price  max_collateral_value          debt\n",
       "0   451.412068             26.703226  18112.864736\n",
       "1   940.164740             17.151219  24139.901153\n",
       "2  1137.981657             11.390755  19274.089539\n",
       "3  1463.037294             19.738406  39803.759558\n",
       "4  1684.079823              0.470501   1193.464813\n",
       "5  1735.629762              8.361573  21861.249335\n",
       "6  2299.702408             12.164874  37067.877295\n",
       "7  2370.096649              0.000011      0.040350\n",
       "8  2594.473893              0.000315      0.962654"
      ]
     },
     "execution_count": 5,
     "metadata": {},
     "output_type": "execute_result"
    }
   ],
   "source": [
    "output_liq_df"
   ]
  }
 ],
 "metadata": {
  "kernelspec": {
   "display_name": "venv",
   "language": "python",
   "name": "python3"
  },
  "language_info": {
   "codemirror_mode": {
    "name": "ipython",
    "version": 3
   },
   "file_extension": ".py",
   "mimetype": "text/x-python",
   "name": "python",
   "nbconvert_exporter": "python",
   "pygments_lexer": "ipython3",
   "version": "3.12.4"
  }
 },
 "nbformat": 4,
 "nbformat_minor": 2
}
